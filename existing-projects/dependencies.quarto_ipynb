{
  "cells": [
    {
      "cell_type": "markdown",
      "metadata": {},
      "source": [
        "# Dependencies\n",
        "\n",
        "Dependencies are the versions of different packages/modules that your code depends on, for example the version of Python you are using, and any libraries you have to import, like `matplotlib`, `scipy`, `tensorflow` etc.\n",
        "\n",
        "Dependencies are an important thing to keep track of when building scientific code. How many different external libraries does your code depend on? What versions of these libraries does it need? How do you install and update these different libraries?\n",
        "\n",
        "Browse through this [quick presentation](presentations/dep-pres.qmd){target=\"_blank\"} to learn more.\n",
        "\n",
        "## Package management for Python\n",
        "\n",
        "In Python, there are lots of different ways to install and manage packages and dependencies. These different tools generally involve using virtual environments\n",
        "in order to keep the dependencies for different projects separate and tidy.\n",
        "Some package installation and management tools include:\n",
        "\n",
        "- [Conda](https://conda.io/projects/conda/en/latest/user-guide/getting-started.html)/[Mamba](https://mamba.readthedocs.io/en/latest/)\n",
        "    - You can install conda with [Miniforge](https://github.com/conda-forge/miniforge)\n",
        "- [pip](https://packaging.python.org/en/latest/key_projects/#pip) and [Pipenv](https://packaging.python.org/en/latest/key_projects/#pipenv)\n",
        "- [pixi](https://pixi.sh/v0.18.0/basic_usage/)\n",
        "- [Poetry](https://python-poetry.org/)\n",
        "- [uv](https://github.com/astral-sh/uv)\n",
        "\n",
        "You can read more about Python package management tool recommendations [here](https://packaging.python.org/en/latest/guides/tool-recommendations/). The package management tool you use will vary depending on whether you want to build your code into a package itself, or are relying primarily on external libraries. Some of these package managers include entire workflows for building and publishing Python packages, while others focus on organising pre-existing packages.\n",
        "\n",
        "::: {.box-lb}\n",
        "### Package management for other coding languages\n",
        "\n",
        "Note that I do not have as extensive experience managing projects, dependencies and packages in the following languages so please proceed with caution.\n",
        "\n",
        "[Package management in R]{.extra}\n",
        "\n",
        "[**conda for R**](https://docs.anaconda.com/working-with-conda/packages/using-r-language/): you can install conda via Miniforge as linked above, and then install R packages through this following these [instructions for R with conda](https://docs.anaconda.com/working-with-conda/packages/using-r-language/).\n",
        "\n",
        "[**renv**](https://rstudio.github.io/renv/index.html): the **r**eproducible **en**vironment package for R has some very nice introductory [documentation](https://rstudio.github.io/renv/articles/renv.html).\n",
        "\n",
        "\n",
        "[Package management in Julia]{.extra}\n",
        "\n",
        "[**Pkg**](https://docs.julialang.org/en/v1/stdlib/Pkg/): Pkg is Julia's built-in package manager.\n",
        "\n",
        ":::\n",
        "\n",
        "## Dependencies: step-by-step for existing projects (Python)\n",
        "\n",
        "Ok, so we've looked at the basic behind-the-scenes of what dependency management is, and some of the different options available. But [how do you retroactively apply dependency management to an existing messy code project?]{.extra}. While we can't record things that we've done in the past, we can start from now.\n",
        "\n",
        "### Step 1: Manually record what libraries you use\n",
        "\n",
        "Scroll through all the scripts you use in your project, and record all the packages that you call as imports across these different Python files and Jupyter notebooks (`*.py` and `*.ipynb` files). \n",
        "\n",
        "For example, I have a series of Python files in my project folder with the following first few lines:\n"
      ],
      "id": "c2956193"
    },
    {
      "cell_type": "code",
      "metadata": {},
      "source": [
        "import numpy as np\n",
        "import matplotlib.pyplot as plt\n",
        "import seaborn as sns"
      ],
      "id": "a2b99be3",
      "execution_count": null,
      "outputs": []
    },
    {
      "cell_type": "code",
      "metadata": {},
      "source": [
        "import numpy as np\n",
        "import pandas as pd"
      ],
      "id": "e9eab3c4",
      "execution_count": null,
      "outputs": []
    },
    {
      "cell_type": "markdown",
      "metadata": {},
      "source": [
        "My list of jotted down dependencies are then:\n",
        "\n",
        "\n",
        "\n",
        "\n",
        "```{text}\n",
        "numpy\n",
        "matplotlib\n",
        "seaborn\n",
        "numpy\n",
        "pandas\n",
        "```"
      ],
      "id": "32b3f6a7"
    }
  ],
  "metadata": {
    "kernelspec": {
      "display_name": "Python 3",
      "language": "python",
      "name": "python3"
    }
  },
  "nbformat": 4,
  "nbformat_minor": 5
}